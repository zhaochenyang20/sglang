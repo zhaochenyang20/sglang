{
 "cells": [
  {
   "cell_type": "markdown",
   "metadata": {},
   "source": [
    "# OpenAI Compatible API\n",
    "\n",
    "SGLang provides an HTTP server that implements OpenAI’s API."
   ]
  },
  {
   "cell_type": "markdown",
   "metadata": {},
   "source": [
    "## Core API\n",
    "\n",
    "```python\n",
    "@app.post(\"/v1/chat/completions\") \n",
    "@app.post(\"/v1/completions\")\n",
    "@app.post(\"/v1/embeddings\")\n",
    "@app.get(\"/v1/models\")\n",
    "```"
   ]
  },
  {
   "cell_type": "markdown",
   "metadata": {},
   "source": [
    "## Detailed Parameters\n",
    "\n",
    "@ChatCompletionRequest\n",
    "\n",
    "@CompletionRequest\n",
    "\n",
    "@EmbeddingRequest"
   ]
  },
  {
   "cell_type": "markdown",
   "metadata": {},
   "source": [
    "## Batch API\n",
    "\n",
    "```python\n",
    "@app.post(\"/v1/batches\")\n",
    "@app.post(\"/v1/batches/{batch_id}/cancel\")\n",
    "@app.get(\"/v1/batches/{batch_id}\")\n",
    "```"
   ]
  },
  {
   "cell_type": "markdown",
   "metadata": {},
   "source": [
    "## File API\n",
    "\n",
    "```python\n",
    "@app.post(\"/v1/files\")\n",
    "@app.delete(\"/v1/files/{file_id}\")\n",
    "@app.get(\"/v1/files/{file_id}\")\n",
    "@app.get(\"/v1/files/{file_id}/content\")\n",
    "```"
   ]
  },
  {
   "cell_type": "markdown",
   "metadata": {},
   "source": []
  }
 ],
 "metadata": {
  "language_info": {
   "name": "python"
  }
 },
 "nbformat": 4,
 "nbformat_minor": 2
}
